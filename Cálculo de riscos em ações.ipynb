{
 "cells": [
  {
   "cell_type": "code",
   "execution_count": 1,
   "id": "67eb7098",
   "metadata": {},
   "outputs": [],
   "source": [
    "import pandas as pd\n",
    "import numpy as np\n",
    "import math\n",
    "import matplotlib.pyplot as plt\n",
    "import seaborn as sns\n",
    "from scipy import stats\n",
    "import dateutil.parser\n",
    "import datetime"
   ]
  },
  {
   "cell_type": "code",
   "execution_count": null,
   "id": "e60e5f26",
   "metadata": {},
   "outputs": [],
   "source": []
  },
  {
   "cell_type": "code",
   "execution_count": 2,
   "id": "ed4b2d28",
   "metadata": {},
   "outputs": [],
   "source": [
    "dataset = pd.read_csv(\"acoes.csv\")"
   ]
  },
  {
   "cell_type": "code",
   "execution_count": null,
   "id": "236c7cc4",
   "metadata": {},
   "outputs": [],
   "source": []
  },
  {
   "cell_type": "code",
   "execution_count": 3,
   "id": "2b2b8439",
   "metadata": {},
   "outputs": [
    {
     "data": {
      "text/html": [
       "<div>\n",
       "<style scoped>\n",
       "    .dataframe tbody tr th:only-of-type {\n",
       "        vertical-align: middle;\n",
       "    }\n",
       "\n",
       "    .dataframe tbody tr th {\n",
       "        vertical-align: top;\n",
       "    }\n",
       "\n",
       "    .dataframe thead th {\n",
       "        text-align: right;\n",
       "    }\n",
       "</style>\n",
       "<table border=\"1\" class=\"dataframe\">\n",
       "  <thead>\n",
       "    <tr style=\"text-align: right;\">\n",
       "      <th></th>\n",
       "      <th>BRADESCO</th>\n",
       "      <th>GOL</th>\n",
       "      <th>JBS</th>\n",
       "      <th>RENNER</th>\n",
       "      <th>PETROBRAS</th>\n",
       "      <th>BOVESPA</th>\n",
       "    </tr>\n",
       "  </thead>\n",
       "  <tbody>\n",
       "    <tr>\n",
       "      <th>count</th>\n",
       "      <td>1937.000000</td>\n",
       "      <td>1937.000000</td>\n",
       "      <td>1937.000000</td>\n",
       "      <td>1937.000000</td>\n",
       "      <td>1937.000000</td>\n",
       "      <td>1937.000000</td>\n",
       "    </tr>\n",
       "    <tr>\n",
       "      <th>mean</th>\n",
       "      <td>17.230974</td>\n",
       "      <td>15.497352</td>\n",
       "      <td>18.855865</td>\n",
       "      <td>30.227936</td>\n",
       "      <td>20.228338</td>\n",
       "      <td>81.171209</td>\n",
       "    </tr>\n",
       "    <tr>\n",
       "      <th>std</th>\n",
       "      <td>3.744909</td>\n",
       "      <td>9.380203</td>\n",
       "      <td>9.498628</td>\n",
       "      <td>11.091809</td>\n",
       "      <td>7.965338</td>\n",
       "      <td>23.898882</td>\n",
       "    </tr>\n",
       "    <tr>\n",
       "      <th>min</th>\n",
       "      <td>8.580003</td>\n",
       "      <td>1.160000</td>\n",
       "      <td>5.980000</td>\n",
       "      <td>11.560707</td>\n",
       "      <td>4.200000</td>\n",
       "      <td>36.450001</td>\n",
       "    </tr>\n",
       "    <tr>\n",
       "      <th>25%</th>\n",
       "      <td>14.798624</td>\n",
       "      <td>7.940000</td>\n",
       "      <td>10.300000</td>\n",
       "      <td>21.153633</td>\n",
       "      <td>13.510000</td>\n",
       "      <td>59.750000</td>\n",
       "    </tr>\n",
       "    <tr>\n",
       "      <th>50%</th>\n",
       "      <td>16.400000</td>\n",
       "      <td>14.300000</td>\n",
       "      <td>15.550000</td>\n",
       "      <td>28.662355</td>\n",
       "      <td>20.900000</td>\n",
       "      <td>82.339996</td>\n",
       "    </tr>\n",
       "    <tr>\n",
       "      <th>75%</th>\n",
       "      <td>19.429752</td>\n",
       "      <td>21.219999</td>\n",
       "      <td>27.040001</td>\n",
       "      <td>38.853817</td>\n",
       "      <td>27.290001</td>\n",
       "      <td>101.900002</td>\n",
       "    </tr>\n",
       "    <tr>\n",
       "      <th>max</th>\n",
       "      <td>26.626596</td>\n",
       "      <td>43.790001</td>\n",
       "      <td>39.049999</td>\n",
       "      <td>60.388462</td>\n",
       "      <td>37.230000</td>\n",
       "      <td>125.750000</td>\n",
       "    </tr>\n",
       "  </tbody>\n",
       "</table>\n",
       "</div>"
      ],
      "text/plain": [
       "          BRADESCO          GOL          JBS       RENNER    PETROBRAS  \\\n",
       "count  1937.000000  1937.000000  1937.000000  1937.000000  1937.000000   \n",
       "mean     17.230974    15.497352    18.855865    30.227936    20.228338   \n",
       "std       3.744909     9.380203     9.498628    11.091809     7.965338   \n",
       "min       8.580003     1.160000     5.980000    11.560707     4.200000   \n",
       "25%      14.798624     7.940000    10.300000    21.153633    13.510000   \n",
       "50%      16.400000    14.300000    15.550000    28.662355    20.900000   \n",
       "75%      19.429752    21.219999    27.040001    38.853817    27.290001   \n",
       "max      26.626596    43.790001    39.049999    60.388462    37.230000   \n",
       "\n",
       "           BOVESPA  \n",
       "count  1937.000000  \n",
       "mean     81.171209  \n",
       "std      23.898882  \n",
       "min      36.450001  \n",
       "25%      59.750000  \n",
       "50%      82.339996  \n",
       "75%     101.900002  \n",
       "max     125.750000  "
      ]
     },
     "execution_count": 3,
     "metadata": {},
     "output_type": "execute_result"
    }
   ],
   "source": [
    "dataset.describe()"
   ]
  },
  {
   "cell_type": "code",
   "execution_count": 4,
   "id": "0541c9ce",
   "metadata": {},
   "outputs": [
    {
     "data": {
      "text/plain": [
       "(0    13.334277\n",
       " Name: BRADESCO, dtype: float64,\n",
       " 245    9.643096\n",
       " Name: BRADESCO, dtype: float64)"
      ]
     },
     "execution_count": 4,
     "metadata": {},
     "output_type": "execute_result"
    }
   ],
   "source": [
    "dataset[\"BRADESCO\"][dataset[\"Date\"]==\"2015-01-02\"],dataset[\"BRADESCO\"][dataset[\"Date\"]==\"2015-12-30\"]"
   ]
  },
  {
   "cell_type": "code",
   "execution_count": null,
   "id": "532f1907",
   "metadata": {},
   "outputs": [],
   "source": []
  },
  {
   "cell_type": "code",
   "execution_count": 5,
   "id": "2e44655a",
   "metadata": {},
   "outputs": [
    {
     "data": {
      "text/plain": [
       "-32.409602556816296"
      ]
     },
     "execution_count": 5,
     "metadata": {},
     "output_type": "execute_result"
    }
   ],
   "source": [
    "np.log(9.64/13.33)*100"
   ]
  },
  {
   "cell_type": "code",
   "execution_count": 101,
   "id": "dbe4ad58",
   "metadata": {},
   "outputs": [
    {
     "data": {
      "text/plain": [
       "-178.31244028910498"
      ]
     },
     "execution_count": 101,
     "metadata": {},
     "output_type": "execute_result"
    }
   ],
   "source": [
    "np.log(dataset[\"GOL\"][dataset[\"Date\"]==\"2015-12-30\"].tolist()[0]/dataset[\"GOL\"][dataset[\"Date\"]==\"2015-01-02\"].tolist()[0])*100"
   ]
  },
  {
   "cell_type": "code",
   "execution_count": 117,
   "id": "796e15e5",
   "metadata": {},
   "outputs": [
    {
     "data": {
      "text/plain": [
       "65.07678972059291"
      ]
     },
     "execution_count": 117,
     "metadata": {},
     "output_type": "execute_result"
    }
   ],
   "source": [
    "np.log(dataset[\"GOL\"][dataset[\"Date\"]==\"2016-12-29\"].tolist()[0]/dataset[\"GOL\"][dataset[\"Date\"]==\"2016-01-04\"].tolist()[0])*100"
   ]
  },
  {
   "cell_type": "code",
   "execution_count": 123,
   "id": "b4866cb8",
   "metadata": {},
   "outputs": [
    {
     "data": {
      "text/plain": [
       "117.47243505779154"
      ]
     },
     "execution_count": 123,
     "metadata": {},
     "output_type": "execute_result"
    }
   ],
   "source": [
    "np.log(dataset[\"GOL\"][dataset[\"Date\"]==\"2017-12-29\"].tolist()[0]/dataset[\"GOL\"][dataset[\"Date\"]==\"2017-01-02\"].tolist()[0])*100"
   ]
  },
  {
   "cell_type": "code",
   "execution_count": 129,
   "id": "e3520bdd",
   "metadata": {},
   "outputs": [
    {
     "data": {
      "text/plain": [
       "50.223057235258985"
      ]
     },
     "execution_count": 129,
     "metadata": {},
     "output_type": "execute_result"
    }
   ],
   "source": [
    "np.log(dataset[\"GOL\"][dataset[\"Date\"]==\"2018-12-28\"].tolist()[0]/dataset[\"GOL\"][dataset[\"Date\"]==\"2018-01-02\"].tolist()[0])*100"
   ]
  },
  {
   "cell_type": "code",
   "execution_count": 132,
   "id": "93228309",
   "metadata": {},
   "outputs": [
    {
     "data": {
      "text/plain": [
       "36.87820514683288"
      ]
     },
     "execution_count": 132,
     "metadata": {},
     "output_type": "execute_result"
    }
   ],
   "source": [
    "np.log(dataset[\"GOL\"][dataset[\"Date\"]==\"2019-12-30\"].tolist()[0]/dataset[\"GOL\"][dataset[\"Date\"]==\"2019-01-02\"].tolist()[0])*100"
   ]
  },
  {
   "cell_type": "code",
   "execution_count": 133,
   "id": "741709da",
   "metadata": {},
   "outputs": [
    {
     "data": {
      "text/plain": [
       "-39.90289733819446"
      ]
     },
     "execution_count": 133,
     "metadata": {},
     "output_type": "execute_result"
    }
   ],
   "source": [
    "np.log(dataset[\"GOL\"][dataset[\"Date\"]==\"2020-12-30\"].tolist()[0]/dataset[\"GOL\"][dataset[\"Date\"]==\"2020-01-02\"].tolist()[0])*100"
   ]
  },
  {
   "cell_type": "code",
   "execution_count": 6,
   "id": "d17fa7a7",
   "metadata": {},
   "outputs": [],
   "source": [
    "#TAXAS DE RETORNO ANUAIS\n",
    "taxas_gol = np.array([-178.31,65.07,117.47,50.22,36.87,-39.90])"
   ]
  },
  {
   "cell_type": "code",
   "execution_count": 7,
   "id": "24c9f2e0",
   "metadata": {},
   "outputs": [
    {
     "data": {
      "text/plain": [
       "8.569999999999999"
      ]
     },
     "execution_count": 7,
     "metadata": {},
     "output_type": "execute_result"
    }
   ],
   "source": [
    " "
   ]
  },
  {
   "cell_type": "code",
   "execution_count": 76,
   "id": "6e1cd1fb",
   "metadata": {},
   "outputs": [
    {
     "name": "stdout",
     "output_type": "stream",
     "text": [
      "Media gol:  8.569999999999999\n",
      "Variança gol:  9143.424633333332\n",
      "Desvio padrão gol:  95.62125617943603\n",
      "Coeficiente variação:  1116 %\n"
     ]
    }
   ],
   "source": [
    "#MÉDIA DAS TAXAS DE RETORNO\n",
    "\n",
    "media_gol = taxas_gol.sum()/len(taxas_gol)\n",
    "\n",
    "#medias_gol = taxas_gol.mean()\n",
    "\n",
    "\n",
    "\n",
    "#VARIANÇA DAS TAXAS DE RETORNO\n",
    "\n",
    "varianca_gol = ((taxas_gol-medias_gol) ** 2).sum()/len(taxas_gol)\n",
    "\n",
    "#varianca_gol = taxas_gol.var()\n",
    "\n",
    "\n",
    "#DESVIO PADRÃO DAS TAXAS DE RETORNO\n",
    "desvio_padrao_gol = math.sqrt(varianca_gol)\n",
    "\n",
    "#desvio_padrao = taxas_gol.std()\n",
    "\n",
    "\n",
    "#COEFICIÊNTE DAS TAXAS DE RETORNO\n",
    "coeficiente_variacao = (desvio_padrao_gol/media_gol)*100\n",
    "\n",
    "print(\"Media gol: \",media_gol)\n",
    "print(\"Variança gol: \",varianca_gol)\n",
    "print(\"Desvio padrão gol: \",desvio_padrao_gol)\n",
    "print(\"Coeficiente variação: \",round(coeficiente_variacao),\"%\")"
   ]
  },
  {
   "cell_type": "code",
   "execution_count": 36,
   "id": "74fe4473",
   "metadata": {},
   "outputs": [
    {
     "data": {
      "text/plain": [
       "9.989999771118164"
      ]
     },
     "execution_count": 36,
     "metadata": {},
     "output_type": "execute_result"
    }
   ],
   "source": [
    "dataset_copy[\"GOL\"]._get_value(1908)"
   ]
  },
  {
   "cell_type": "code",
   "execution_count": 61,
   "id": "1f250a1c",
   "metadata": {},
   "outputs": [],
   "source": [
    "para_cima = list()\n",
    "para_baixo = list()\n",
    "ultimos_dias = 30\n",
    "\n",
    "dataset_copy = pd.DataFrame(dataset[\"GOL\"].tail(ultimos_dias))\n",
    "dataset_copy = dataset_copy.reset_index()\n",
    "media = dataset_copy[\"GOL\"].mean()\n",
    "\n",
    "i=0\n",
    "\n",
    "while(i<ultimos_dias):\n",
    "    \n",
    "    if(dataset_copy[\"GOL\"]._get_value(i)>media):\n",
    "        \n",
    "        para_cima.append(dataset_copy[\"GOL\"]._get_value(i))\n",
    "    \n",
    "    else:\n",
    "        \n",
    "        para_baixo.append(dataset_copy[\"GOL\"]._get_value(i))\n",
    "    \n",
    "    i+=1\n",
    "    \n",
    "para_cima = np.array(para_cima)\n",
    "para_baixo = np.array(para_baixo)"
   ]
  },
  {
   "cell_type": "code",
   "execution_count": 66,
   "id": "78d57387",
   "metadata": {},
   "outputs": [
    {
     "data": {
      "text/plain": [
       "0.24070531447898644"
      ]
     },
     "execution_count": 66,
     "metadata": {},
     "output_type": "execute_result"
    }
   ],
   "source": [
    "para_cima.std()"
   ]
  },
  {
   "cell_type": "code",
   "execution_count": 78,
   "id": "1d3cbdc8",
   "metadata": {},
   "outputs": [
    {
     "data": {
      "text/html": [
       "<div>\n",
       "<style scoped>\n",
       "    .dataframe tbody tr th:only-of-type {\n",
       "        vertical-align: middle;\n",
       "    }\n",
       "\n",
       "    .dataframe tbody tr th {\n",
       "        vertical-align: top;\n",
       "    }\n",
       "\n",
       "    .dataframe thead th {\n",
       "        text-align: right;\n",
       "    }\n",
       "</style>\n",
       "<table border=\"1\" class=\"dataframe\">\n",
       "  <thead>\n",
       "    <tr style=\"text-align: right;\">\n",
       "      <th></th>\n",
       "      <th>BRADESCO</th>\n",
       "      <th>GOL</th>\n",
       "      <th>JBS</th>\n",
       "      <th>RENNER</th>\n",
       "      <th>PETROBRAS</th>\n",
       "      <th>BOVESPA</th>\n",
       "    </tr>\n",
       "  </thead>\n",
       "  <tbody>\n",
       "    <tr>\n",
       "      <th>0</th>\n",
       "      <td>13.334277</td>\n",
       "      <td>14.99</td>\n",
       "      <td>10.550000</td>\n",
       "      <td>12.446208</td>\n",
       "      <td>9.360000</td>\n",
       "      <td>47.259998</td>\n",
       "    </tr>\n",
       "    <tr>\n",
       "      <th>1</th>\n",
       "      <td>13.162675</td>\n",
       "      <td>14.85</td>\n",
       "      <td>10.600000</td>\n",
       "      <td>12.100207</td>\n",
       "      <td>8.560000</td>\n",
       "      <td>46.320000</td>\n",
       "    </tr>\n",
       "    <tr>\n",
       "      <th>2</th>\n",
       "      <td>13.513680</td>\n",
       "      <td>15.21</td>\n",
       "      <td>10.350000</td>\n",
       "      <td>12.239591</td>\n",
       "      <td>8.280000</td>\n",
       "      <td>46.580002</td>\n",
       "    </tr>\n",
       "    <tr>\n",
       "      <th>3</th>\n",
       "      <td>14.110388</td>\n",
       "      <td>14.55</td>\n",
       "      <td>10.640000</td>\n",
       "      <td>12.447848</td>\n",
       "      <td>8.670000</td>\n",
       "      <td>48.150002</td>\n",
       "    </tr>\n",
       "    <tr>\n",
       "      <th>4</th>\n",
       "      <td>14.141588</td>\n",
       "      <td>14.27</td>\n",
       "      <td>10.730000</td>\n",
       "      <td>12.462606</td>\n",
       "      <td>9.230000</td>\n",
       "      <td>48.509998</td>\n",
       "    </tr>\n",
       "    <tr>\n",
       "      <th>...</th>\n",
       "      <td>...</td>\n",
       "      <td>...</td>\n",
       "      <td>...</td>\n",
       "      <td>...</td>\n",
       "      <td>...</td>\n",
       "      <td>...</td>\n",
       "    </tr>\n",
       "    <tr>\n",
       "      <th>1933</th>\n",
       "      <td>16.760000</td>\n",
       "      <td>10.47</td>\n",
       "      <td>25.680000</td>\n",
       "      <td>30.730000</td>\n",
       "      <td>33.250000</td>\n",
       "      <td>112.080002</td>\n",
       "    </tr>\n",
       "    <tr>\n",
       "      <th>1934</th>\n",
       "      <td>16.600000</td>\n",
       "      <td>10.13</td>\n",
       "      <td>24.629999</td>\n",
       "      <td>29.950001</td>\n",
       "      <td>33.000000</td>\n",
       "      <td>110.889999</td>\n",
       "    </tr>\n",
       "    <tr>\n",
       "      <th>1935</th>\n",
       "      <td>16.379999</td>\n",
       "      <td>9.75</td>\n",
       "      <td>24.770000</td>\n",
       "      <td>29.180000</td>\n",
       "      <td>33.939999</td>\n",
       "      <td>110.260002</td>\n",
       "    </tr>\n",
       "    <tr>\n",
       "      <th>1936</th>\n",
       "      <td>16.309999</td>\n",
       "      <td>9.28</td>\n",
       "      <td>24.240000</td>\n",
       "      <td>28.540001</td>\n",
       "      <td>33.419998</td>\n",
       "      <td>108.220001</td>\n",
       "    </tr>\n",
       "    <tr>\n",
       "      <th>1937</th>\n",
       "      <td>16.430000</td>\n",
       "      <td>9.72</td>\n",
       "      <td>24.750000</td>\n",
       "      <td>29.090000</td>\n",
       "      <td>33.389999</td>\n",
       "      <td>109.900002</td>\n",
       "    </tr>\n",
       "  </tbody>\n",
       "</table>\n",
       "<p>1938 rows × 6 columns</p>\n",
       "</div>"
      ],
      "text/plain": [
       "       BRADESCO    GOL        JBS     RENNER  PETROBRAS     BOVESPA\n",
       "0     13.334277  14.99  10.550000  12.446208   9.360000   47.259998\n",
       "1     13.162675  14.85  10.600000  12.100207   8.560000   46.320000\n",
       "2     13.513680  15.21  10.350000  12.239591   8.280000   46.580002\n",
       "3     14.110388  14.55  10.640000  12.447848   8.670000   48.150002\n",
       "4     14.141588  14.27  10.730000  12.462606   9.230000   48.509998\n",
       "...         ...    ...        ...        ...        ...         ...\n",
       "1933  16.760000  10.47  25.680000  30.730000  33.250000  112.080002\n",
       "1934  16.600000  10.13  24.629999  29.950001  33.000000  110.889999\n",
       "1935  16.379999   9.75  24.770000  29.180000  33.939999  110.260002\n",
       "1936  16.309999   9.28  24.240000  28.540001  33.419998  108.220001\n",
       "1937  16.430000   9.72  24.750000  29.090000  33.389999  109.900002\n",
       "\n",
       "[1938 rows x 6 columns]"
      ]
     },
     "execution_count": 78,
     "metadata": {},
     "output_type": "execute_result"
    }
   ],
   "source": [
    "#Cálculos com todas as ações - risco médio anual\n",
    "\n",
    "dataset.drop(labels = ['Date'], axis=1, inplace=True)\n",
    "dataset"
   ]
  },
  {
   "cell_type": "code",
   "execution_count": 79,
   "id": "1d40513c",
   "metadata": {},
   "outputs": [
    {
     "data": {
      "text/html": [
       "<div>\n",
       "<style scoped>\n",
       "    .dataframe tbody tr th:only-of-type {\n",
       "        vertical-align: middle;\n",
       "    }\n",
       "\n",
       "    .dataframe tbody tr th {\n",
       "        vertical-align: top;\n",
       "    }\n",
       "\n",
       "    .dataframe thead th {\n",
       "        text-align: right;\n",
       "    }\n",
       "</style>\n",
       "<table border=\"1\" class=\"dataframe\">\n",
       "  <thead>\n",
       "    <tr style=\"text-align: right;\">\n",
       "      <th></th>\n",
       "      <th>BRADESCO</th>\n",
       "      <th>GOL</th>\n",
       "      <th>JBS</th>\n",
       "      <th>RENNER</th>\n",
       "      <th>PETROBRAS</th>\n",
       "      <th>BOVESPA</th>\n",
       "    </tr>\n",
       "  </thead>\n",
       "  <tbody>\n",
       "    <tr>\n",
       "      <th>0</th>\n",
       "      <td>NaN</td>\n",
       "      <td>NaN</td>\n",
       "      <td>NaN</td>\n",
       "      <td>NaN</td>\n",
       "      <td>NaN</td>\n",
       "      <td>NaN</td>\n",
       "    </tr>\n",
       "    <tr>\n",
       "      <th>1</th>\n",
       "      <td>-0.012869</td>\n",
       "      <td>-0.009340</td>\n",
       "      <td>0.004739</td>\n",
       "      <td>-0.027800</td>\n",
       "      <td>-0.085470</td>\n",
       "      <td>-0.019890</td>\n",
       "    </tr>\n",
       "    <tr>\n",
       "      <th>2</th>\n",
       "      <td>0.026667</td>\n",
       "      <td>0.024242</td>\n",
       "      <td>-0.023585</td>\n",
       "      <td>0.011519</td>\n",
       "      <td>-0.032710</td>\n",
       "      <td>0.005613</td>\n",
       "    </tr>\n",
       "    <tr>\n",
       "      <th>3</th>\n",
       "      <td>0.044156</td>\n",
       "      <td>-0.043392</td>\n",
       "      <td>0.028019</td>\n",
       "      <td>0.017015</td>\n",
       "      <td>0.047101</td>\n",
       "      <td>0.033705</td>\n",
       "    </tr>\n",
       "    <tr>\n",
       "      <th>4</th>\n",
       "      <td>0.002211</td>\n",
       "      <td>-0.019244</td>\n",
       "      <td>0.008459</td>\n",
       "      <td>0.001186</td>\n",
       "      <td>0.064590</td>\n",
       "      <td>0.007477</td>\n",
       "    </tr>\n",
       "    <tr>\n",
       "      <th>...</th>\n",
       "      <td>...</td>\n",
       "      <td>...</td>\n",
       "      <td>...</td>\n",
       "      <td>...</td>\n",
       "      <td>...</td>\n",
       "      <td>...</td>\n",
       "    </tr>\n",
       "    <tr>\n",
       "      <th>1933</th>\n",
       "      <td>-0.009456</td>\n",
       "      <td>0.005764</td>\n",
       "      <td>0.048163</td>\n",
       "      <td>-0.004858</td>\n",
       "      <td>-0.011299</td>\n",
       "      <td>-0.006207</td>\n",
       "    </tr>\n",
       "    <tr>\n",
       "      <th>1934</th>\n",
       "      <td>-0.009547</td>\n",
       "      <td>-0.032474</td>\n",
       "      <td>-0.040888</td>\n",
       "      <td>-0.025382</td>\n",
       "      <td>-0.007519</td>\n",
       "      <td>-0.010617</td>\n",
       "    </tr>\n",
       "    <tr>\n",
       "      <th>1935</th>\n",
       "      <td>-0.013253</td>\n",
       "      <td>-0.037512</td>\n",
       "      <td>0.005684</td>\n",
       "      <td>-0.025710</td>\n",
       "      <td>0.028485</td>\n",
       "      <td>-0.005681</td>\n",
       "    </tr>\n",
       "    <tr>\n",
       "      <th>1936</th>\n",
       "      <td>-0.004273</td>\n",
       "      <td>-0.048205</td>\n",
       "      <td>-0.021397</td>\n",
       "      <td>-0.021933</td>\n",
       "      <td>-0.015321</td>\n",
       "      <td>-0.018502</td>\n",
       "    </tr>\n",
       "    <tr>\n",
       "      <th>1937</th>\n",
       "      <td>0.007358</td>\n",
       "      <td>0.047414</td>\n",
       "      <td>0.021040</td>\n",
       "      <td>0.019271</td>\n",
       "      <td>-0.000898</td>\n",
       "      <td>0.015524</td>\n",
       "    </tr>\n",
       "  </tbody>\n",
       "</table>\n",
       "<p>1938 rows × 6 columns</p>\n",
       "</div>"
      ],
      "text/plain": [
       "      BRADESCO       GOL       JBS    RENNER  PETROBRAS   BOVESPA\n",
       "0          NaN       NaN       NaN       NaN        NaN       NaN\n",
       "1    -0.012869 -0.009340  0.004739 -0.027800  -0.085470 -0.019890\n",
       "2     0.026667  0.024242 -0.023585  0.011519  -0.032710  0.005613\n",
       "3     0.044156 -0.043392  0.028019  0.017015   0.047101  0.033705\n",
       "4     0.002211 -0.019244  0.008459  0.001186   0.064590  0.007477\n",
       "...        ...       ...       ...       ...        ...       ...\n",
       "1933 -0.009456  0.005764  0.048163 -0.004858  -0.011299 -0.006207\n",
       "1934 -0.009547 -0.032474 -0.040888 -0.025382  -0.007519 -0.010617\n",
       "1935 -0.013253 -0.037512  0.005684 -0.025710   0.028485 -0.005681\n",
       "1936 -0.004273 -0.048205 -0.021397 -0.021933  -0.015321 -0.018502\n",
       "1937  0.007358  0.047414  0.021040  0.019271  -0.000898  0.015524\n",
       "\n",
       "[1938 rows x 6 columns]"
      ]
     },
     "execution_count": 79,
     "metadata": {},
     "output_type": "execute_result"
    }
   ],
   "source": [
    "taxas_retorno = (dataset / dataset.shift(1)) - 1\n",
    "taxas_retorno"
   ]
  },
  {
   "cell_type": "code",
   "execution_count": 80,
   "id": "193cd601",
   "metadata": {},
   "outputs": [
    {
     "data": {
      "text/plain": [
       "BRADESCO     2.217488\n",
       "GOL          4.862054\n",
       "JBS          3.055218\n",
       "RENNER       2.465311\n",
       "PETROBRAS    3.231106\n",
       "BOVESPA      1.637845\n",
       "dtype: float64"
      ]
     },
     "execution_count": 80,
     "metadata": {},
     "output_type": "execute_result"
    }
   ],
   "source": [
    "taxas_retorno.std() * 100"
   ]
  },
  {
   "cell_type": "code",
   "execution_count": 81,
   "id": "d138c9d3",
   "metadata": {},
   "outputs": [
    {
     "data": {
      "text/plain": [
       "BRADESCO      5.455020\n",
       "GOL          11.960653\n",
       "JBS           7.515836\n",
       "RENNER        6.064666\n",
       "PETROBRAS     7.948521\n",
       "BOVESPA       4.029098\n",
       "dtype: float64"
      ]
     },
     "execution_count": 81,
     "metadata": {},
     "output_type": "execute_result"
    }
   ],
   "source": [
    "taxas_retorno.std() * 246"
   ]
  },
  {
   "cell_type": "code",
   "execution_count": null,
   "id": "0f9fe145",
   "metadata": {},
   "outputs": [],
   "source": [
    "math.sqrt(246) # Anualizar"
   ]
  },
  {
   "cell_type": "code",
   "execution_count": 82,
   "id": "ff70579f",
   "metadata": {},
   "outputs": [
    {
     "data": {
      "text/plain": [
       "BRADESCO     0.347799\n",
       "GOL          0.762583\n",
       "JBS          0.479192\n",
       "RENNER       0.386669\n",
       "PETROBRAS    0.506779\n",
       "BOVESPA      0.256886\n",
       "dtype: float64"
      ]
     },
     "execution_count": 82,
     "metadata": {},
     "output_type": "execute_result"
    }
   ],
   "source": [
    "taxas_retorno.std() * math.sqrt(246)"
   ]
  },
  {
   "cell_type": "code",
   "execution_count": null,
   "id": "1ba2910a",
   "metadata": {},
   "outputs": [],
   "source": []
  },
  {
   "cell_type": "code",
   "execution_count": 83,
   "id": "bc5fdafa",
   "metadata": {},
   "outputs": [
    {
     "data": {
      "text/html": [
       "<div>\n",
       "<style scoped>\n",
       "    .dataframe tbody tr th:only-of-type {\n",
       "        vertical-align: middle;\n",
       "    }\n",
       "\n",
       "    .dataframe tbody tr th {\n",
       "        vertical-align: top;\n",
       "    }\n",
       "\n",
       "    .dataframe thead th {\n",
       "        text-align: right;\n",
       "    }\n",
       "</style>\n",
       "<table border=\"1\" class=\"dataframe\">\n",
       "  <thead>\n",
       "    <tr style=\"text-align: right;\">\n",
       "      <th></th>\n",
       "      <th>BRADESCO</th>\n",
       "      <th>GOL</th>\n",
       "      <th>JBS</th>\n",
       "      <th>RENNER</th>\n",
       "      <th>PETROBRAS</th>\n",
       "      <th>BOVESPA</th>\n",
       "    </tr>\n",
       "  </thead>\n",
       "  <tbody>\n",
       "    <tr>\n",
       "      <th>BRADESCO</th>\n",
       "      <td>1.000000</td>\n",
       "      <td>0.501082</td>\n",
       "      <td>0.275075</td>\n",
       "      <td>0.577351</td>\n",
       "      <td>0.581565</td>\n",
       "      <td>0.809943</td>\n",
       "    </tr>\n",
       "    <tr>\n",
       "      <th>GOL</th>\n",
       "      <td>0.501082</td>\n",
       "      <td>1.000000</td>\n",
       "      <td>0.252903</td>\n",
       "      <td>0.465990</td>\n",
       "      <td>0.441503</td>\n",
       "      <td>0.592047</td>\n",
       "    </tr>\n",
       "    <tr>\n",
       "      <th>JBS</th>\n",
       "      <td>0.275075</td>\n",
       "      <td>0.252903</td>\n",
       "      <td>1.000000</td>\n",
       "      <td>0.257724</td>\n",
       "      <td>0.266453</td>\n",
       "      <td>0.400340</td>\n",
       "    </tr>\n",
       "    <tr>\n",
       "      <th>RENNER</th>\n",
       "      <td>0.577351</td>\n",
       "      <td>0.465990</td>\n",
       "      <td>0.257724</td>\n",
       "      <td>1.000000</td>\n",
       "      <td>0.424493</td>\n",
       "      <td>0.659162</td>\n",
       "    </tr>\n",
       "    <tr>\n",
       "      <th>PETROBRAS</th>\n",
       "      <td>0.581565</td>\n",
       "      <td>0.441503</td>\n",
       "      <td>0.266453</td>\n",
       "      <td>0.424493</td>\n",
       "      <td>1.000000</td>\n",
       "      <td>0.745685</td>\n",
       "    </tr>\n",
       "    <tr>\n",
       "      <th>BOVESPA</th>\n",
       "      <td>0.809943</td>\n",
       "      <td>0.592047</td>\n",
       "      <td>0.400340</td>\n",
       "      <td>0.659162</td>\n",
       "      <td>0.745685</td>\n",
       "      <td>1.000000</td>\n",
       "    </tr>\n",
       "  </tbody>\n",
       "</table>\n",
       "</div>"
      ],
      "text/plain": [
       "           BRADESCO       GOL       JBS    RENNER  PETROBRAS   BOVESPA\n",
       "BRADESCO   1.000000  0.501082  0.275075  0.577351   0.581565  0.809943\n",
       "GOL        0.501082  1.000000  0.252903  0.465990   0.441503  0.592047\n",
       "JBS        0.275075  0.252903  1.000000  0.257724   0.266453  0.400340\n",
       "RENNER     0.577351  0.465990  0.257724  1.000000   0.424493  0.659162\n",
       "PETROBRAS  0.581565  0.441503  0.266453  0.424493   1.000000  0.745685\n",
       "BOVESPA    0.809943  0.592047  0.400340  0.659162   0.745685  1.000000"
      ]
     },
     "execution_count": 83,
     "metadata": {},
     "output_type": "execute_result"
    }
   ],
   "source": [
    "taxas_retorno.corr()"
   ]
  },
  {
   "cell_type": "code",
   "execution_count": 85,
   "id": "6576b5c3",
   "metadata": {},
   "outputs": [
    {
     "data": {
      "text/plain": [
       "<AxesSubplot: >"
      ]
     },
     "execution_count": 85,
     "metadata": {},
     "output_type": "execute_result"
    },
    {
     "data": {
      "image/png": "[encoded data removed]",
      "text/plain": [
       "<Figure size 800x800 with 2 Axes>"
      ]
     },
     "metadata": {},
     "output_type": "display_data"
    }
   ],
   "source": [
    "plt.figure(figsize=(8,8))\n",
    "sns.heatmap(taxas_retorno.corr(),annot=True)"
   ]
  },
  {
   "cell_type": "code",
   "execution_count": 86,
   "id": "c7f72804",
   "metadata": {},
   "outputs": [
    {
     "data": {
      "text/html": [
       "<div>\n",
       "<style scoped>\n",
       "    .dataframe tbody tr th:only-of-type {\n",
       "        vertical-align: middle;\n",
       "    }\n",
       "\n",
       "    .dataframe tbody tr th {\n",
       "        vertical-align: top;\n",
       "    }\n",
       "\n",
       "    .dataframe thead th {\n",
       "        text-align: right;\n",
       "    }\n",
       "</style>\n",
       "<table border=\"1\" class=\"dataframe\">\n",
       "  <thead>\n",
       "    <tr style=\"text-align: right;\">\n",
       "      <th></th>\n",
       "      <th>BRADESCO</th>\n",
       "      <th>GOL</th>\n",
       "    </tr>\n",
       "  </thead>\n",
       "  <tbody>\n",
       "    <tr>\n",
       "      <th>0</th>\n",
       "      <td>NaN</td>\n",
       "      <td>NaN</td>\n",
       "    </tr>\n",
       "    <tr>\n",
       "      <th>1</th>\n",
       "      <td>-0.012869</td>\n",
       "      <td>-0.009340</td>\n",
       "    </tr>\n",
       "    <tr>\n",
       "      <th>2</th>\n",
       "      <td>0.026667</td>\n",
       "      <td>0.024242</td>\n",
       "    </tr>\n",
       "    <tr>\n",
       "      <th>3</th>\n",
       "      <td>0.044156</td>\n",
       "      <td>-0.043392</td>\n",
       "    </tr>\n",
       "    <tr>\n",
       "      <th>4</th>\n",
       "      <td>0.002211</td>\n",
       "      <td>-0.019244</td>\n",
       "    </tr>\n",
       "    <tr>\n",
       "      <th>...</th>\n",
       "      <td>...</td>\n",
       "      <td>...</td>\n",
       "    </tr>\n",
       "    <tr>\n",
       "      <th>1933</th>\n",
       "      <td>-0.009456</td>\n",
       "      <td>0.005764</td>\n",
       "    </tr>\n",
       "    <tr>\n",
       "      <th>1934</th>\n",
       "      <td>-0.009547</td>\n",
       "      <td>-0.032474</td>\n",
       "    </tr>\n",
       "    <tr>\n",
       "      <th>1935</th>\n",
       "      <td>-0.013253</td>\n",
       "      <td>-0.037512</td>\n",
       "    </tr>\n",
       "    <tr>\n",
       "      <th>1936</th>\n",
       "      <td>-0.004273</td>\n",
       "      <td>-0.048205</td>\n",
       "    </tr>\n",
       "    <tr>\n",
       "      <th>1937</th>\n",
       "      <td>0.007358</td>\n",
       "      <td>0.047414</td>\n",
       "    </tr>\n",
       "  </tbody>\n",
       "</table>\n",
       "<p>1938 rows × 2 columns</p>\n",
       "</div>"
      ],
      "text/plain": [
       "      BRADESCO       GOL\n",
       "0          NaN       NaN\n",
       "1    -0.012869 -0.009340\n",
       "2     0.026667  0.024242\n",
       "3     0.044156 -0.043392\n",
       "4     0.002211 -0.019244\n",
       "...        ...       ...\n",
       "1933 -0.009456  0.005764\n",
       "1934 -0.009547 -0.032474\n",
       "1935 -0.013253 -0.037512\n",
       "1936 -0.004273 -0.048205\n",
       "1937  0.007358  0.047414\n",
       "\n",
       "[1938 rows x 2 columns]"
      ]
     },
     "execution_count": 86,
     "metadata": {},
     "output_type": "execute_result"
    }
   ],
   "source": [
    "taxas_retorno_gol_bradesco = taxas_retorno.drop(columns=[\"JBS\",\"RENNER\",\"PETROBRAS\",\"BOVESPA\"])\n",
    "taxas_retorno_gol_bradesco"
   ]
  },
  {
   "cell_type": "code",
   "execution_count": 88,
   "id": "31f304ec",
   "metadata": {},
   "outputs": [
    {
     "data": {
      "text/html": [
       "<div>\n",
       "<style scoped>\n",
       "    .dataframe tbody tr th:only-of-type {\n",
       "        vertical-align: middle;\n",
       "    }\n",
       "\n",
       "    .dataframe tbody tr th {\n",
       "        vertical-align: top;\n",
       "    }\n",
       "\n",
       "    .dataframe thead th {\n",
       "        text-align: right;\n",
       "    }\n",
       "</style>\n",
       "<table border=\"1\" class=\"dataframe\">\n",
       "  <thead>\n",
       "    <tr style=\"text-align: right;\">\n",
       "      <th></th>\n",
       "      <th>BRADESCO</th>\n",
       "      <th>GOL</th>\n",
       "    </tr>\n",
       "  </thead>\n",
       "  <tbody>\n",
       "    <tr>\n",
       "      <th>BRADESCO</th>\n",
       "      <td>0.120964</td>\n",
       "      <td>0.132900</td>\n",
       "    </tr>\n",
       "    <tr>\n",
       "      <th>GOL</th>\n",
       "      <td>0.132900</td>\n",
       "      <td>0.581533</td>\n",
       "    </tr>\n",
       "  </tbody>\n",
       "</table>\n",
       "</div>"
      ],
      "text/plain": [
       "          BRADESCO       GOL\n",
       "BRADESCO  0.120964  0.132900\n",
       "GOL       0.132900  0.581533"
      ]
     },
     "execution_count": 88,
     "metadata": {},
     "output_type": "execute_result"
    }
   ],
   "source": [
    "taxas_retorno_gol_bradesco.cov()*246"
   ]
  },
  {
   "cell_type": "code",
   "execution_count": null,
   "id": "b4778f1c",
   "metadata": {},
   "outputs": [],
   "source": [
    "pesos = np.array([0.5,0.5])"
   ]
  },
  {
   "cell_type": "code",
   "execution_count": null,
   "id": "81b3a387",
   "metadata": {},
   "outputs": [],
   "source": []
  },
  {
   "cell_type": "code",
   "execution_count": null,
   "id": "6ee7921a",
   "metadata": {},
   "outputs": [],
   "source": []
  },
  {
   "cell_type": "code",
   "execution_count": null,
   "id": "e9c12b47",
   "metadata": {},
   "outputs": [],
   "source": []
  }
 ],
 "metadata": {
  "kernelspec": {
   "display_name": "Python 3 (ipykernel)",
   "language": "python",
   "name": "python3"
  },
  "language_info": {
   "codemirror_mode": {
    "name": "ipython",
    "version": 3
   },
   "file_extension": ".py",
   "mimetype": "text/x-python",
   "name": "python",
   "nbconvert_exporter": "python",
   "pygments_lexer": "ipython3",
   "version": "3.8.10"
  }
 },
 "nbformat": 4,
 "nbformat_minor": 5
}
