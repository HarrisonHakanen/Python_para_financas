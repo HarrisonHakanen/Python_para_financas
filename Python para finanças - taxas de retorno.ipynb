{
 "cells": [
  {
   "cell_type": "code",
   "execution_count": 28,
   "id": "8d0971e5",
   "metadata": {},
   "outputs": [],
   "source": [
    "import pandas as pd\n",
    "import numpy as np\n",
    "import plotly.express as px\n",
    "import datetime\n"
   ]
  },
  {
   "cell_type": "code",
   "execution_count": null,
   "id": "e4ca051c",
   "metadata": {},
   "outputs": [],
   "source": []
  },
  {
   "cell_type": "code",
   "execution_count": null,
   "id": "0063ef68",
   "metadata": {},
   "outputs": [],
   "source": []
  },
  {
   "cell_type": "code",
   "execution_count": 2,
   "id": "2dcdb4db",
   "metadata": {},
   "outputs": [],
   "source": [
    "dataset = pd.read_csv('moedas.csv')"
   ]
  },
  {
   "cell_type": "code",
   "execution_count": 4,
   "id": "016365c4",
   "metadata": {},
   "outputs": [
    {
     "data": {
      "text/plain": [
       "(456, 7)"
      ]
     },
     "execution_count": 4,
     "metadata": {},
     "output_type": "execute_result"
    }
   ],
   "source": [
    "dataset.shape"
   ]
  },
  {
   "cell_type": "code",
   "execution_count": 6,
   "id": "f21626e9",
   "metadata": {},
   "outputs": [
    {
     "data": {
      "text/html": [
       "<div>\n",
       "<style scoped>\n",
       "    .dataframe tbody tr th:only-of-type {\n",
       "        vertical-align: middle;\n",
       "    }\n",
       "\n",
       "    .dataframe tbody tr th {\n",
       "        vertical-align: top;\n",
       "    }\n",
       "\n",
       "    .dataframe thead th {\n",
       "        text-align: right;\n",
       "    }\n",
       "</style>\n",
       "<table border=\"1\" class=\"dataframe\">\n",
       "  <thead>\n",
       "    <tr style=\"text-align: right;\">\n",
       "      <th></th>\n",
       "      <th>Date</th>\n",
       "      <th>HOLO</th>\n",
       "      <th>HELIUM</th>\n",
       "      <th>eCash</th>\n",
       "      <th>SHIBA</th>\n",
       "      <th>NEXO</th>\n",
       "      <th>SOLANA</th>\n",
       "    </tr>\n",
       "  </thead>\n",
       "  <tbody>\n",
       "    <tr>\n",
       "      <th>0</th>\n",
       "      <td>2021-07-08 00:00:00+00:00</td>\n",
       "      <td>0.005752</td>\n",
       "      <td>12.170575</td>\n",
       "      <td>0.000026</td>\n",
       "      <td>0.000008</td>\n",
       "      <td>1.594480</td>\n",
       "      <td>33.203728</td>\n",
       "    </tr>\n",
       "    <tr>\n",
       "      <th>1</th>\n",
       "      <td>2021-07-09 00:00:00+00:00</td>\n",
       "      <td>0.005804</td>\n",
       "      <td>12.508923</td>\n",
       "      <td>0.000026</td>\n",
       "      <td>0.000008</td>\n",
       "      <td>1.639455</td>\n",
       "      <td>33.264648</td>\n",
       "    </tr>\n",
       "    <tr>\n",
       "      <th>2</th>\n",
       "      <td>2021-07-10 00:00:00+00:00</td>\n",
       "      <td>0.005687</td>\n",
       "      <td>12.942661</td>\n",
       "      <td>0.000026</td>\n",
       "      <td>0.000008</td>\n",
       "      <td>1.627516</td>\n",
       "      <td>31.788645</td>\n",
       "    </tr>\n",
       "    <tr>\n",
       "      <th>3</th>\n",
       "      <td>2021-07-11 00:00:00+00:00</td>\n",
       "      <td>0.005771</td>\n",
       "      <td>12.811461</td>\n",
       "      <td>0.000026</td>\n",
       "      <td>0.000008</td>\n",
       "      <td>1.632134</td>\n",
       "      <td>32.177841</td>\n",
       "    </tr>\n",
       "    <tr>\n",
       "      <th>4</th>\n",
       "      <td>2021-07-12 00:00:00+00:00</td>\n",
       "      <td>0.005639</td>\n",
       "      <td>12.592767</td>\n",
       "      <td>0.000026</td>\n",
       "      <td>0.000008</td>\n",
       "      <td>1.568177</td>\n",
       "      <td>30.848087</td>\n",
       "    </tr>\n",
       "    <tr>\n",
       "      <th>...</th>\n",
       "      <td>...</td>\n",
       "      <td>...</td>\n",
       "      <td>...</td>\n",
       "      <td>...</td>\n",
       "      <td>...</td>\n",
       "      <td>...</td>\n",
       "      <td>...</td>\n",
       "    </tr>\n",
       "    <tr>\n",
       "      <th>451</th>\n",
       "      <td>2022-10-02 00:00:00+00:00</td>\n",
       "      <td>0.001970</td>\n",
       "      <td>4.806920</td>\n",
       "      <td>0.000040</td>\n",
       "      <td>0.000011</td>\n",
       "      <td>0.866362</td>\n",
       "      <td>32.055698</td>\n",
       "    </tr>\n",
       "    <tr>\n",
       "      <th>452</th>\n",
       "      <td>2022-10-03 00:00:00+00:00</td>\n",
       "      <td>0.002013</td>\n",
       "      <td>4.930039</td>\n",
       "      <td>0.000041</td>\n",
       "      <td>0.000011</td>\n",
       "      <td>0.877267</td>\n",
       "      <td>32.967621</td>\n",
       "    </tr>\n",
       "    <tr>\n",
       "      <th>453</th>\n",
       "      <td>2022-10-04 00:00:00+00:00</td>\n",
       "      <td>0.002032</td>\n",
       "      <td>5.215694</td>\n",
       "      <td>0.000042</td>\n",
       "      <td>0.000012</td>\n",
       "      <td>0.902363</td>\n",
       "      <td>34.122471</td>\n",
       "    </tr>\n",
       "    <tr>\n",
       "      <th>454</th>\n",
       "      <td>2022-10-05 00:00:00+00:00</td>\n",
       "      <td>0.002026</td>\n",
       "      <td>5.653285</td>\n",
       "      <td>0.000042</td>\n",
       "      <td>0.000011</td>\n",
       "      <td>0.895997</td>\n",
       "      <td>34.073883</td>\n",
       "    </tr>\n",
       "    <tr>\n",
       "      <th>455</th>\n",
       "      <td>2022-10-06 00:00:00+00:00</td>\n",
       "      <td>0.002008</td>\n",
       "      <td>5.095095</td>\n",
       "      <td>0.000043</td>\n",
       "      <td>0.000011</td>\n",
       "      <td>0.896607</td>\n",
       "      <td>33.435162</td>\n",
       "    </tr>\n",
       "  </tbody>\n",
       "</table>\n",
       "<p>456 rows × 7 columns</p>\n",
       "</div>"
      ],
      "text/plain": [
       "                          Date      HOLO     HELIUM     eCash     SHIBA  \\\n",
       "0    2021-07-08 00:00:00+00:00  0.005752  12.170575  0.000026  0.000008   \n",
       "1    2021-07-09 00:00:00+00:00  0.005804  12.508923  0.000026  0.000008   \n",
       "2    2021-07-10 00:00:00+00:00  0.005687  12.942661  0.000026  0.000008   \n",
       "3    2021-07-11 00:00:00+00:00  0.005771  12.811461  0.000026  0.000008   \n",
       "4    2021-07-12 00:00:00+00:00  0.005639  12.592767  0.000026  0.000008   \n",
       "..                         ...       ...        ...       ...       ...   \n",
       "451  2022-10-02 00:00:00+00:00  0.001970   4.806920  0.000040  0.000011   \n",
       "452  2022-10-03 00:00:00+00:00  0.002013   4.930039  0.000041  0.000011   \n",
       "453  2022-10-04 00:00:00+00:00  0.002032   5.215694  0.000042  0.000012   \n",
       "454  2022-10-05 00:00:00+00:00  0.002026   5.653285  0.000042  0.000011   \n",
       "455  2022-10-06 00:00:00+00:00  0.002008   5.095095  0.000043  0.000011   \n",
       "\n",
       "         NEXO     SOLANA  \n",
       "0    1.594480  33.203728  \n",
       "1    1.639455  33.264648  \n",
       "2    1.627516  31.788645  \n",
       "3    1.632134  32.177841  \n",
       "4    1.568177  30.848087  \n",
       "..        ...        ...  \n",
       "451  0.866362  32.055698  \n",
       "452  0.877267  32.967621  \n",
       "453  0.902363  34.122471  \n",
       "454  0.895997  34.073883  \n",
       "455  0.896607  33.435162  \n",
       "\n",
       "[456 rows x 7 columns]"
      ]
     },
     "execution_count": 6,
     "metadata": {},
     "output_type": "execute_result"
    }
   ],
   "source": [
    "dataset"
   ]
  },
  {
   "cell_type": "code",
   "execution_count": 7,
   "id": "b919d7b0",
   "metadata": {},
   "outputs": [
    {
     "data": {
      "text/html": [
       "<div>\n",
       "<style scoped>\n",
       "    .dataframe tbody tr th:only-of-type {\n",
       "        vertical-align: middle;\n",
       "    }\n",
       "\n",
       "    .dataframe tbody tr th {\n",
       "        vertical-align: top;\n",
       "    }\n",
       "\n",
       "    .dataframe thead th {\n",
       "        text-align: right;\n",
       "    }\n",
       "</style>\n",
       "<table border=\"1\" class=\"dataframe\">\n",
       "  <thead>\n",
       "    <tr style=\"text-align: right;\">\n",
       "      <th></th>\n",
       "      <th>HOLO</th>\n",
       "      <th>HELIUM</th>\n",
       "      <th>eCash</th>\n",
       "      <th>SHIBA</th>\n",
       "      <th>NEXO</th>\n",
       "      <th>SOLANA</th>\n",
       "    </tr>\n",
       "  </thead>\n",
       "  <tbody>\n",
       "    <tr>\n",
       "      <th>count</th>\n",
       "      <td>456.000000</td>\n",
       "      <td>456.000000</td>\n",
       "      <td>456.000000</td>\n",
       "      <td>456.000000</td>\n",
       "      <td>456.000000</td>\n",
       "      <td>456.000000</td>\n",
       "    </tr>\n",
       "    <tr>\n",
       "      <th>mean</th>\n",
       "      <td>0.005889</td>\n",
       "      <td>19.293132</td>\n",
       "      <td>0.000094</td>\n",
       "      <td>0.000020</td>\n",
       "      <td>1.735302</td>\n",
       "      <td>97.257412</td>\n",
       "    </tr>\n",
       "    <tr>\n",
       "      <th>std</th>\n",
       "      <td>0.003575</td>\n",
       "      <td>11.024112</td>\n",
       "      <td>0.000065</td>\n",
       "      <td>0.000014</td>\n",
       "      <td>0.693754</td>\n",
       "      <td>62.847116</td>\n",
       "    </tr>\n",
       "    <tr>\n",
       "      <th>min</th>\n",
       "      <td>0.001913</td>\n",
       "      <td>3.396728</td>\n",
       "      <td>0.000019</td>\n",
       "      <td>0.000006</td>\n",
       "      <td>0.561336</td>\n",
       "      <td>23.489555</td>\n",
       "    </tr>\n",
       "    <tr>\n",
       "      <th>25%</th>\n",
       "      <td>0.002488</td>\n",
       "      <td>9.404402</td>\n",
       "      <td>0.000044</td>\n",
       "      <td>0.000011</td>\n",
       "      <td>1.054175</td>\n",
       "      <td>38.473213</td>\n",
       "    </tr>\n",
       "    <tr>\n",
       "      <th>50%</th>\n",
       "      <td>0.004922</td>\n",
       "      <td>19.456189</td>\n",
       "      <td>0.000075</td>\n",
       "      <td>0.000013</td>\n",
       "      <td>1.820369</td>\n",
       "      <td>88.975975</td>\n",
       "    </tr>\n",
       "    <tr>\n",
       "      <th>75%</th>\n",
       "      <td>0.008671</td>\n",
       "      <td>25.138861</td>\n",
       "      <td>0.000115</td>\n",
       "      <td>0.000027</td>\n",
       "      <td>2.249769</td>\n",
       "      <td>147.815014</td>\n",
       "    </tr>\n",
       "    <tr>\n",
       "      <th>max</th>\n",
       "      <td>0.015527</td>\n",
       "      <td>52.711040</td>\n",
       "      <td>0.000330</td>\n",
       "      <td>0.000080</td>\n",
       "      <td>3.443478</td>\n",
       "      <td>258.934326</td>\n",
       "    </tr>\n",
       "  </tbody>\n",
       "</table>\n",
       "</div>"
      ],
      "text/plain": [
       "             HOLO      HELIUM       eCash       SHIBA        NEXO      SOLANA\n",
       "count  456.000000  456.000000  456.000000  456.000000  456.000000  456.000000\n",
       "mean     0.005889   19.293132    0.000094    0.000020    1.735302   97.257412\n",
       "std      0.003575   11.024112    0.000065    0.000014    0.693754   62.847116\n",
       "min      0.001913    3.396728    0.000019    0.000006    0.561336   23.489555\n",
       "25%      0.002488    9.404402    0.000044    0.000011    1.054175   38.473213\n",
       "50%      0.004922   19.456189    0.000075    0.000013    1.820369   88.975975\n",
       "75%      0.008671   25.138861    0.000115    0.000027    2.249769  147.815014\n",
       "max      0.015527   52.711040    0.000330    0.000080    3.443478  258.934326"
      ]
     },
     "execution_count": 7,
     "metadata": {},
     "output_type": "execute_result"
    }
   ],
   "source": [
    "dataset.describe()"
   ]
  },
  {
   "cell_type": "code",
   "execution_count": 10,
   "id": "94f397e8",
   "metadata": {},
   "outputs": [
    {
     "data": {
      "text/plain": [
       "39.38798737121129"
      ]
     },
     "execution_count": 10,
     "metadata": {},
     "output_type": "execute_result"
    }
   ],
   "source": [
    "#TAXA DE RETORNO GERAL\n",
    "\n",
    "\n",
    "((dataset['SHIBA'][len(dataset)-1]-dataset['SHIBA'][0])/dataset['SHIBA'][0])*100"
   ]
  },
  {
   "cell_type": "code",
   "execution_count": 19,
   "id": "1a6ecfd8",
   "metadata": {},
   "outputs": [
    {
     "name": "stdout",
     "output_type": "stream",
     "text": [
      "HOLO\n",
      "-65.08744587861422\n",
      "\n",
      "\n",
      "HELIUM\n",
      "-58.13595806789542\n",
      "\n",
      "\n",
      "eCash\n",
      "64.2651971844003\n",
      "\n",
      "\n",
      "SHIBA\n",
      "39.38798737121129\n",
      "\n",
      "\n",
      "NEXO\n",
      "-43.76809469395763\n",
      "\n",
      "\n",
      "SOLANA\n",
      "0.6970117040614382\n",
      "\n",
      "\n"
     ]
    }
   ],
   "source": [
    "for i in np.arange(1,len(dataset.columns)):\n",
    "    print(dataset.columns[i])\n",
    "    print(((dataset[dataset.columns[i]][len(dataset)-1]-dataset[dataset.columns[i]][0])/dataset[dataset.columns[i]][0])*100)\n",
    "    print('\\n')"
   ]
  },
  {
   "cell_type": "code",
   "execution_count": 23,
   "id": "45b76572",
   "metadata": {},
   "outputs": [],
   "source": [
    "#TAXA DE RETORNO DIÁRIA\n",
    "\n",
    "dataset['RS HOLO'] = (dataset['HOLO']/dataset['HOLO'].shift(1))-1\n",
    "dataset['RS HELIUM'] = (dataset['HELIUM']/dataset['HELIUM'].shift(1))-1\n",
    "dataset['RS eCash'] = (dataset['eCash']/dataset['eCash'].shift(1))-1\n",
    "dataset['RS SHIBA'] = (dataset['SHIBA']/dataset['SHIBA'].shift(1))-1\n",
    "dataset['RS NEXO'] = (dataset['NEXO']/dataset['NEXO'].shift(1))-1\n",
    "dataset['RS SOLANA'] = (dataset['SOLANA']/dataset['SOLANA'].shift(1))-1"
   ]
  },
  {
   "cell_type": "code",
   "execution_count": 41,
   "id": "3890efa0",
   "metadata": {},
   "outputs": [
    {
     "data": {
      "text/plain": [
       "366"
      ]
     },
     "execution_count": 41,
     "metadata": {},
     "output_type": "execute_result"
    }
   ],
   "source": [
    "#TAXA DE RETORNO ANUAL\n",
    "\n",
    "len(dataset[(dataset['Date']>'2021-07-08') & (dataset['Date']<'2022-07-09')])"
   ]
  },
  {
   "cell_type": "code",
   "execution_count": 42,
   "id": "2dd0d648",
   "metadata": {},
   "outputs": [
    {
     "data": {
      "text/plain": [
       "-21.61514871555199"
      ]
     },
     "execution_count": 42,
     "metadata": {},
     "output_type": "execute_result"
    }
   ],
   "source": [
    "(dataset['RS HOLO'].mean()*366)*100"
   ]
  },
  {
   "cell_type": "code",
   "execution_count": 56,
   "id": "98b99814",
   "metadata": {},
   "outputs": [
    {
     "name": "stdout",
     "output_type": "stream",
     "text": [
      "RS HOLO\n",
      "-21.61514871555199\n",
      "\n",
      "\n",
      "RS HELIUM\n",
      "21.421799181016237\n",
      "\n",
      "\n",
      "RS eCash\n",
      "151.7890171896278\n",
      "\n",
      "\n",
      "RS SHIBA\n",
      "154.05887821048353\n",
      "\n",
      "\n",
      "RS NEXO\n",
      "-4.3120100529709156\n",
      "\n",
      "\n",
      "RS SOLANA\n",
      "67.31961529446644\n",
      "\n",
      "\n"
     ]
    }
   ],
   "source": [
    "for i in np.arange(7,len(dataset.columns)):\n",
    "    print(dataset.columns[i])\n",
    "    print((dataset[dataset.columns[i]].mean()*366)*100)\n",
    "    print('\\n')"
   ]
  },
  {
   "cell_type": "code",
   "execution_count": 57,
   "id": "ca461ee6",
   "metadata": {},
   "outputs": [
    {
     "data": {
      "text/plain": [
       "-105.23237045171878"
      ]
     },
     "execution_count": 57,
     "metadata": {},
     "output_type": "execute_result"
    }
   ],
   "source": [
    "#TAXA DE RETORNO LOGARITMICA\n",
    "\n",
    "np.log(dataset['HOLO'][len(dataset)-1]/dataset['HOLO'][0])*100"
   ]
  },
  {
   "cell_type": "code",
   "execution_count": 61,
   "id": "da2d12ae",
   "metadata": {},
   "outputs": [
    {
     "name": "stdout",
     "output_type": "stream",
     "text": [
      "HOLO\n",
      "-105.23237045171878\n",
      "\n",
      "\n",
      "HELIUM\n",
      "-87.0742915291881\n",
      "\n",
      "\n",
      "eCash\n",
      "49.6311991811247\n",
      "\n",
      "\n",
      "SHIBA\n",
      "33.20911348174898\n",
      "\n",
      "\n",
      "NEXO\n",
      "-57.56858801029164\n",
      "\n",
      "\n",
      "SOLANA\n",
      "0.694593806335056\n",
      "\n",
      "\n",
      "RS HOLO\n",
      "nan\n",
      "\n",
      "\n",
      "RS HELIUM\n",
      "nan\n",
      "\n",
      "\n",
      "RS eCash\n",
      "nan\n",
      "\n",
      "\n",
      "RS SHIBA\n",
      "nan\n",
      "\n",
      "\n",
      "RS NEXO\n",
      "nan\n",
      "\n",
      "\n",
      "RS SOLANA\n",
      "nan\n",
      "\n",
      "\n"
     ]
    }
   ],
   "source": [
    "for i in np.arange(1,len(dataset.columns)):\n",
    "    print(dataset.columns[i])\n",
    "    print(np.log(dataset[dataset.columns[i]][len(dataset)-1]/dataset[dataset.columns[i]][0])*100)\n",
    "    print('\\n')"
   ]
  },
  {
   "cell_type": "code",
   "execution_count": 62,
   "id": "e8cbd30a",
   "metadata": {},
   "outputs": [],
   "source": [
    "dataset['Ret_log HOLO'] = np.log(dataset['HOLO']/dataset['HOLO'].shift(1))\n",
    "dataset['Ret_log HELIUM'] = np.log(dataset['HELIUM']/dataset['HELIUM'].shift(1))\n",
    "dataset['Ret_log eCash'] = np.log(dataset['eCash']/dataset['eCash'].shift(1))\n",
    "dataset['Ret_log SHIBA'] = np.log(dataset['SHIBA']/dataset['SHIBA'].shift(1))\n",
    "dataset['Ret_log NEXO'] = np.log(dataset['NEXO']/dataset['NEXO'].shift(1))\n",
    "dataset['Ret_log SOLANA'] = np.log(dataset['SOLANA']/dataset['SOLANA'].shift(1))"
   ]
  },
  {
   "cell_type": "code",
   "execution_count": 63,
   "id": "96ef2542",
   "metadata": {},
   "outputs": [
    {
     "data": {
      "text/plain": [
       "<AxesSubplot:>"
      ]
     },
     "execution_count": 63,
     "metadata": {},
     "output_type": "execute_result"
    },
    {
     "data": {
      "image/png": "[encoded data removed]",
      "text/plain": [
       "<Figure size 432x288 with 1 Axes>"
      ]
     },
     "metadata": {
      "needs_background": "light"
     },
     "output_type": "display_data"
    }
   ],
   "source": [
    "dataset['Ret_log HOLO'].plot()"
   ]
  },
  {
   "cell_type": "code",
   "execution_count": 66,
   "id": "f2f6c00f",
   "metadata": {},
   "outputs": [
    {
     "data": {
      "text/plain": [
       "-84.6484562314925"
      ]
     },
     "execution_count": 66,
     "metadata": {},
     "output_type": "execute_result"
    }
   ],
   "source": [
    "(dataset['Ret_log HOLO'].mean()*366)*100"
   ]
  },
  {
   "cell_type": "code",
   "execution_count": 70,
   "id": "baebbfd8",
   "metadata": {},
   "outputs": [
    {
     "name": "stdout",
     "output_type": "stream",
     "text": [
      "Ret_log HOLO\n",
      "-84.6484562314925\n",
      "\n",
      "\n",
      "Ret_log HELIUM\n",
      "-70.04217736194039\n",
      "\n",
      "\n",
      "Ret_log eCash\n",
      "39.923118462179346\n",
      "\n",
      "\n",
      "Ret_log SHIBA\n",
      "26.713264910593715\n",
      "\n",
      "\n",
      "Ret_log NEXO\n",
      "-46.30791914674008\n",
      "\n",
      "\n",
      "Ret_log SOLANA\n",
      "0.5587282046563999\n",
      "\n",
      "\n"
     ]
    }
   ],
   "source": [
    "for i in np.arange(13,len(dataset.columns)):\n",
    "    print(dataset.columns[i])\n",
    "    print((dataset[dataset.columns[i]].mean()*366)*100)\n",
    "    print('\\n')"
   ]
  },
  {
   "cell_type": "code",
   "execution_count": null,
   "id": "969ec255",
   "metadata": {},
   "outputs": [],
   "source": []
  },
  {
   "cell_type": "code",
   "execution_count": null,
   "id": "42ce5870",
   "metadata": {},
   "outputs": [],
   "source": []
  },
  {
   "cell_type": "code",
   "execution_count": null,
   "id": "1e604f46",
   "metadata": {},
   "outputs": [],
   "source": []
  },
  {
   "cell_type": "code",
   "execution_count": null,
   "id": "f01876de",
   "metadata": {},
   "outputs": [],
   "source": []
  },
  {
   "cell_type": "code",
   "execution_count": null,
   "id": "ee8e338c",
   "metadata": {},
   "outputs": [],
   "source": []
  },
  {
   "cell_type": "code",
   "execution_count": null,
   "id": "3591e991",
   "metadata": {},
   "outputs": [],
   "source": []
  },
  {
   "cell_type": "code",
   "execution_count": null,
   "id": "662157f8",
   "metadata": {},
   "outputs": [],
   "source": []
  },
  {
   "cell_type": "code",
   "execution_count": null,
   "id": "83a51ba6",
   "metadata": {},
   "outputs": [],
   "source": []
  },
  {
   "cell_type": "code",
   "execution_count": null,
   "id": "215be633",
   "metadata": {},
   "outputs": [],
   "source": []
  },
  {
   "cell_type": "code",
   "execution_count": null,
   "id": "f193bf2d",
   "metadata": {},
   "outputs": [],
   "source": []
  },
  {
   "cell_type": "code",
   "execution_count": null,
   "id": "34ff5805",
   "metadata": {},
   "outputs": [],
   "source": []
  },
  {
   "cell_type": "code",
   "execution_count": null,
   "id": "b6ee9dda",
   "metadata": {},
   "outputs": [],
   "source": []
  },
  {
   "cell_type": "code",
   "execution_count": null,
   "id": "e556f692",
   "metadata": {},
   "outputs": [],
   "source": []
  },
  {
   "cell_type": "code",
   "execution_count": null,
   "id": "6484cb6b",
   "metadata": {},
   "outputs": [],
   "source": []
  },
  {
   "cell_type": "code",
   "execution_count": null,
   "id": "8bdddcac",
   "metadata": {},
   "outputs": [],
   "source": []
  },
  {
   "cell_type": "code",
   "execution_count": null,
   "id": "7c5d7fcd",
   "metadata": {},
   "outputs": [],
   "source": []
  },
  {
   "cell_type": "code",
   "execution_count": null,
   "id": "aec11ac1",
   "metadata": {},
   "outputs": [],
   "source": []
  },
  {
   "cell_type": "code",
   "execution_count": null,
   "id": "97cd8dbc",
   "metadata": {},
   "outputs": [],
   "source": []
  },
  {
   "cell_type": "code",
   "execution_count": null,
   "id": "53b7b363",
   "metadata": {},
   "outputs": [],
   "source": []
  },
  {
   "cell_type": "code",
   "execution_count": null,
   "id": "8228cb94",
   "metadata": {},
   "outputs": [],
   "source": []
  },
  {
   "cell_type": "code",
   "execution_count": null,
   "id": "7f8ce001",
   "metadata": {},
   "outputs": [],
   "source": []
  },
  {
   "cell_type": "code",
   "execution_count": null,
   "id": "94ab56b8",
   "metadata": {},
   "outputs": [],
   "source": []
  },
  {
   "cell_type": "code",
   "execution_count": null,
   "id": "f296eb6f",
   "metadata": {},
   "outputs": [],
   "source": []
  },
  {
   "cell_type": "code",
   "execution_count": null,
   "id": "5913d7aa",
   "metadata": {},
   "outputs": [],
   "source": []
  },
  {
   "cell_type": "code",
   "execution_count": null,
   "id": "bc5e3e7f",
   "metadata": {},
   "outputs": [],
   "source": []
  },
  {
   "cell_type": "code",
   "execution_count": null,
   "id": "7ea7f25c",
   "metadata": {},
   "outputs": [],
   "source": []
  },
  {
   "cell_type": "code",
   "execution_count": null,
   "id": "4120b4ca",
   "metadata": {},
   "outputs": [],
   "source": []
  },
  {
   "cell_type": "code",
   "execution_count": null,
   "id": "b69fc964",
   "metadata": {},
   "outputs": [],
   "source": []
  },
  {
   "cell_type": "code",
   "execution_count": null,
   "id": "bb665966",
   "metadata": {},
   "outputs": [],
   "source": []
  },
  {
   "cell_type": "code",
   "execution_count": null,
   "id": "62069d47",
   "metadata": {},
   "outputs": [],
   "source": []
  },
  {
   "cell_type": "code",
   "execution_count": null,
   "id": "a96ec8b9",
   "metadata": {},
   "outputs": [],
   "source": []
  },
  {
   "cell_type": "code",
   "execution_count": null,
   "id": "87ac5e0e",
   "metadata": {},
   "outputs": [],
   "source": []
  },
  {
   "cell_type": "code",
   "execution_count": null,
   "id": "99befe74",
   "metadata": {},
   "outputs": [],
   "source": []
  },
  {
   "cell_type": "code",
   "execution_count": null,
   "id": "ce4df413",
   "metadata": {},
   "outputs": [],
   "source": []
  },
  {
   "cell_type": "code",
   "execution_count": null,
   "id": "5bbefb73",
   "metadata": {},
   "outputs": [],
   "source": []
  },
  {
   "cell_type": "code",
   "execution_count": null,
   "id": "9442df8d",
   "metadata": {},
   "outputs": [],
   "source": []
  },
  {
   "cell_type": "code",
   "execution_count": null,
   "id": "05591e4c",
   "metadata": {},
   "outputs": [],
   "source": []
  },
  {
   "cell_type": "code",
   "execution_count": null,
   "id": "911e6d7e",
   "metadata": {},
   "outputs": [],
   "source": []
  },
  {
   "cell_type": "code",
   "execution_count": null,
   "id": "c677a989",
   "metadata": {},
   "outputs": [],
   "source": []
  },
  {
   "cell_type": "code",
   "execution_count": null,
   "id": "2ef50897",
   "metadata": {},
   "outputs": [],
   "source": []
  },
  {
   "cell_type": "code",
   "execution_count": null,
   "id": "d0b9fa2c",
   "metadata": {},
   "outputs": [],
   "source": []
  },
  {
   "cell_type": "code",
   "execution_count": null,
   "id": "4913616b",
   "metadata": {},
   "outputs": [],
   "source": []
  },
  {
   "cell_type": "code",
   "execution_count": null,
   "id": "69603d9d",
   "metadata": {},
   "outputs": [],
   "source": []
  },
  {
   "cell_type": "code",
   "execution_count": null,
   "id": "0529f785",
   "metadata": {},
   "outputs": [],
   "source": []
  },
  {
   "cell_type": "code",
   "execution_count": null,
   "id": "01ac117b",
   "metadata": {},
   "outputs": [],
   "source": []
  },
  {
   "cell_type": "code",
   "execution_count": null,
   "id": "d0ae228a",
   "metadata": {},
   "outputs": [],
   "source": []
  },
  {
   "cell_type": "code",
   "execution_count": null,
   "id": "6eca40a5",
   "metadata": {},
   "outputs": [],
   "source": []
  },
  {
   "cell_type": "code",
   "execution_count": null,
   "id": "552a5b63",
   "metadata": {},
   "outputs": [],
   "source": []
  },
  {
   "cell_type": "code",
   "execution_count": null,
   "id": "bfa4f248",
   "metadata": {},
   "outputs": [],
   "source": []
  },
  {
   "cell_type": "code",
   "execution_count": null,
   "id": "bfb52331",
   "metadata": {},
   "outputs": [],
   "source": []
  },
  {
   "cell_type": "code",
   "execution_count": null,
   "id": "a28f8f18",
   "metadata": {},
   "outputs": [],
   "source": []
  },
  {
   "cell_type": "code",
   "execution_count": null,
   "id": "c2b19055",
   "metadata": {},
   "outputs": [],
   "source": []
  },
  {
   "cell_type": "code",
   "execution_count": null,
   "id": "64c7d5a5",
   "metadata": {},
   "outputs": [],
   "source": []
  }
 ],
 "metadata": {
  "kernelspec": {
   "display_name": "Python 3 (ipykernel)",
   "language": "python",
   "name": "python3"
  },
  "language_info": {
   "codemirror_mode": {
    "name": "ipython",
    "version": 3
   },
   "file_extension": ".py",
   "mimetype": "text/x-python",
   "name": "python",
   "nbconvert_exporter": "python",
   "pygments_lexer": "ipython3",
   "version": "3.10.4"
  }
 },
 "nbformat": 4,
 "nbformat_minor": 5
}
